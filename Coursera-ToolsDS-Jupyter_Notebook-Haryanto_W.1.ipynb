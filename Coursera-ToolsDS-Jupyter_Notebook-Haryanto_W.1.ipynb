{
 "cells": [
  {
   "cell_type": "markdown",
   "id": "53d2dfbb",
   "metadata": {},
   "source": [
    "# My Jupyter Notebook on IBM Watson Studio / Github"
   ]
  },
  {
   "cell_type": "markdown",
   "id": "60eb4c4c",
   "metadata": {},
   "source": [
    "**Haryanto \"Harry\" Wicaksono**\n",
    "Data Scientist in-training"
   ]
  },
  {
   "cell_type": "markdown",
   "id": "020b69ae",
   "metadata": {},
   "source": [
    "*I'm interested in data science because I would like to research more into the intersection between data science approach and information security. I'm curious to see how my previous experience and exposure in the field of security could add value to data science, or how data science can add value to the information security industry.*"
   ]
  },
  {
   "cell_type": "markdown",
   "id": "ef22ab93",
   "metadata": {},
   "source": [
    "### The code will perform a multiplication operation ###"
   ]
  },
  {
   "cell_type": "code",
   "execution_count": 1,
   "id": "055e9929",
   "metadata": {},
   "outputs": [
    {
     "data": {
      "text/plain": [
       "25"
      ]
     },
     "execution_count": 1,
     "metadata": {},
     "output_type": "execute_result"
    }
   ],
   "source": [
    "5 * 5 "
   ]
  },
  {
   "cell_type": "markdown",
   "id": "0af82536",
   "metadata": {},
   "source": [
    "Multiplication is a part of arithmetic operations. \n",
    "\n",
    "---\n",
    "\n",
    "Aside from multiplication, other arithmetic operations include: \n",
    "1. Addition\n",
    "2. Subtraction\n",
    "3. Division\n",
    "4.Exponentiation\n",
    "5.*n*th root\n",
    "6.Logarithm \n",
    "\n",
    "[Click here for reference](https://en.wikipedia.org/wiki/Multiplication)\n",
    "\n"
   ]
  },
  {
   "cell_type": "code",
   "execution_count": null,
   "id": "c9f2a795",
   "metadata": {},
   "outputs": [],
   "source": []
  }
 ],
 "metadata": {
  "kernelspec": {
   "display_name": "Python 3 (ipykernel)",
   "language": "python",
   "name": "python3"
  },
  "language_info": {
   "codemirror_mode": {
    "name": "ipython",
    "version": 3
   },
   "file_extension": ".py",
   "mimetype": "text/x-python",
   "name": "python",
   "nbconvert_exporter": "python",
   "pygments_lexer": "ipython3",
   "version": "3.9.7"
  }
 },
 "nbformat": 4,
 "nbformat_minor": 5
}
